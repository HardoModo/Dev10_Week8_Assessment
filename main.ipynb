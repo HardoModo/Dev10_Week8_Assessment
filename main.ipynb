{
 "cells": [
  {
   "cell_type": "code",
   "execution_count": null,
   "metadata": {},
   "outputs": [],
   "source": [
    "# Magic methods that automatically update changes to imported python functions\n",
    "\n",
    "%load_ext autoreload\n",
    "%autoreload 2"
   ]
  },
  {
   "cell_type": "code",
   "execution_count": 1,
   "metadata": {},
   "outputs": [],
   "source": [
    "year = 2019\n",
    "url = f'https://api.census.gov/data/{year}/abscs?get=GEO_ID,NAME,NAICS2017,NAICS2017_LABEL,SEX,SEX_LABEL,ETH_GROUP,ETH_GROUP_LABEL,RACE_GROUP,RACE_GROUP_LABEL,VET_GROUP,VET_GROUP_LABEL,EMPSZFI,EMPSZFI_LABEL,YEAR,FIRMPDEMP,FIRMPDEMP_F,RCPPDEMP,RCPPDEMP_F,EMP,EMP_F,PAYANN,PAYANN_F,FIRMPDEMP_S,FIRMPDEMP_S_F,RCPPDEMP_S,RCPPDEMP_S_F,EMP_S,EMP_S_F,PAYANN_S,PAYANN_S_F&for=us:*'"
   ]
  },
  {
   "cell_type": "markdown",
   "metadata": {},
   "source": [
    "## Questions to Answer\n",
    "\n",
    "1. Question 1 - Visual Type A : Time in business vs Wealth\n",
    "2. Question 2 - Visual Type A : Size of business vs Wealth\n",
    "3. Question 3 - Visual Type B : Employee Size vs Wealth\n",
    "\n",
    "4. Question 4 - Visual Type A : Demographic of Employees\n",
    "5. Question 5 - Visual Type A : Demographic of Employees\n",
    "6. Question 6 - Visual Type B : Demographic of Employees\n",
    "\n",
    "7. Question 7 - Visual Type A : Wealth by Business Type\n",
    "8. Question 8 - Visual Type A : Wealth by Location\n",
    "9. Question 9 - Visual Type B : Mystery Question\n"
   ]
  },
  {
   "cell_type": "code",
   "execution_count": 2,
   "metadata": {},
   "outputs": [
    {
     "data": {
      "text/plain": [
       "<Response [200]>"
      ]
     },
     "execution_count": 2,
     "metadata": {},
     "output_type": "execute_result"
    }
   ],
   "source": [
    "import requests\n",
    "import pandas as pd\n",
    "import numpy as np\n",
    "import matplotlib.pyplot as plt\n",
    "import plotly as pl\n",
    "import seaborn as sns\n",
    "\n",
    "YearinBusinessDF = pd.read_csv('csv\\ABSCS2018.AB1800CSA02-2023-04-20T164944.csv')\n",
    "ReceiptSizeOfFirmDF = pd.read_csv('csv\\ABSCS2018.AB1800CSA03-2023-04-20T164951.csv')\n",
    "EmploymentSizeOfFirmDF = pd.read_csv('csv\\ABSCS2018.AB1800CSA04-2023-04-20T164954.csv')\n",
    "\n",
    "listOfDF = [YearinBusinessDF, ReceiptSizeOfFirmDF, EmploymentSizeOfFirmDF]\n",
    "\n",
    "response = requests.get(url)\n",
    "response"
   ]
  },
  {
   "cell_type": "code",
   "execution_count": 3,
   "metadata": {},
   "outputs": [
    {
     "ename": "KeyError",
     "evalue": "\"['NAICS2018'] not found in axis\"",
     "output_type": "error",
     "traceback": [
      "\u001b[1;31m---------------------------------------------------------------------------\u001b[0m",
      "\u001b[1;31mKeyError\u001b[0m                                  Traceback (most recent call last)",
      "Cell \u001b[1;32mIn[3], line 13\u001b[0m\n\u001b[0;32m      7\u001b[0m df \u001b[39m=\u001b[39m pd\u001b[39m.\u001b[39mDataFrame(data[\u001b[39m1\u001b[39m:], columns\u001b[39m=\u001b[39mcol)\n\u001b[0;32m      9\u001b[0m colToDrop \u001b[39m=\u001b[39m [\u001b[39m'\u001b[39m\u001b[39mGEO_ID\u001b[39m\u001b[39m'\u001b[39m, \u001b[39m'\u001b[39m\u001b[39mNAME\u001b[39m\u001b[39m'\u001b[39m, \u001b[39mf\u001b[39m\u001b[39m'\u001b[39m\u001b[39mNAICS\u001b[39m\u001b[39m{\u001b[39;00myear \u001b[39m-\u001b[39m \u001b[39m1\u001b[39m\u001b[39m}\u001b[39;00m\u001b[39m'\u001b[39m, \u001b[39m'\u001b[39m\u001b[39mSEX\u001b[39m\u001b[39m'\u001b[39m, \u001b[39m'\u001b[39m\u001b[39mETH_GROUP\u001b[39m\u001b[39m'\u001b[39m, \u001b[39m'\u001b[39m\u001b[39mRACE_GROUP\u001b[39m\u001b[39m'\u001b[39m, \u001b[39m'\u001b[39m\u001b[39mPAYANN_F\u001b[39m\u001b[39m'\u001b[39m,\n\u001b[0;32m     10\u001b[0m  \u001b[39m'\u001b[39m\u001b[39mFIRMPDEMP_S\u001b[39m\u001b[39m'\u001b[39m, \u001b[39m'\u001b[39m\u001b[39mFIRMPDEMP_S_F\u001b[39m\u001b[39m'\u001b[39m, \u001b[39m'\u001b[39m\u001b[39mRCPPDEMP_S\u001b[39m\u001b[39m'\u001b[39m, \u001b[39m'\u001b[39m\u001b[39mRCPPDEMP_S_F\u001b[39m\u001b[39m'\u001b[39m, \u001b[39m'\u001b[39m\u001b[39mEMP_S\u001b[39m\u001b[39m'\u001b[39m, \u001b[39m'\u001b[39m\u001b[39mEMP_S_F\u001b[39m\u001b[39m'\u001b[39m, \u001b[39m'\u001b[39m\u001b[39mPAYANN_S\u001b[39m\u001b[39m'\u001b[39m,\n\u001b[0;32m     11\u001b[0m  \u001b[39m'\u001b[39m\u001b[39mPAYANN_S_F\u001b[39m\u001b[39m'\u001b[39m, \u001b[39m'\u001b[39m\u001b[39mus\u001b[39m\u001b[39m'\u001b[39m, \u001b[39m'\u001b[39m\u001b[39mYEAR\u001b[39m\u001b[39m'\u001b[39m, \u001b[39m'\u001b[39m\u001b[39mFIRMPDEMP_F\u001b[39m\u001b[39m'\u001b[39m, \u001b[39m'\u001b[39m\u001b[39mRCPPDEMP_F\u001b[39m\u001b[39m'\u001b[39m, \u001b[39m'\u001b[39m\u001b[39mEMP_F\u001b[39m\u001b[39m'\u001b[39m, \u001b[39m'\u001b[39m\u001b[39mVET_GROUP\u001b[39m\u001b[39m'\u001b[39m, \u001b[39m'\u001b[39m\u001b[39mEMPSZFI\u001b[39m\u001b[39m'\u001b[39m]\n\u001b[1;32m---> 13\u001b[0m df \u001b[39m=\u001b[39m df\u001b[39m.\u001b[39;49mdrop(columns\u001b[39m=\u001b[39;49m colToDrop, axis \u001b[39m=\u001b[39;49m \u001b[39m1\u001b[39;49m)\u001b[39m.\u001b[39mconvert_dtypes()\u001b[39m.\u001b[39mdrop_duplicates()\n\u001b[0;32m     15\u001b[0m \u001b[39m# list(df.columns)\u001b[39;00m\n\u001b[0;32m     16\u001b[0m df\u001b[39m.\u001b[39mhead()\n",
      "File \u001b[1;32mc:\\Users\\jinhe\\OneDrive\\Documents\\Dev10\\Anaconda\\lib\\site-packages\\pandas\\util\\_decorators.py:331\u001b[0m, in \u001b[0;36mdeprecate_nonkeyword_arguments.<locals>.decorate.<locals>.wrapper\u001b[1;34m(*args, **kwargs)\u001b[0m\n\u001b[0;32m    325\u001b[0m \u001b[39mif\u001b[39;00m \u001b[39mlen\u001b[39m(args) \u001b[39m>\u001b[39m num_allow_args:\n\u001b[0;32m    326\u001b[0m     warnings\u001b[39m.\u001b[39mwarn(\n\u001b[0;32m    327\u001b[0m         msg\u001b[39m.\u001b[39mformat(arguments\u001b[39m=\u001b[39m_format_argument_list(allow_args)),\n\u001b[0;32m    328\u001b[0m         \u001b[39mFutureWarning\u001b[39;00m,\n\u001b[0;32m    329\u001b[0m         stacklevel\u001b[39m=\u001b[39mfind_stack_level(),\n\u001b[0;32m    330\u001b[0m     )\n\u001b[1;32m--> 331\u001b[0m \u001b[39mreturn\u001b[39;00m func(\u001b[39m*\u001b[39margs, \u001b[39m*\u001b[39m\u001b[39m*\u001b[39mkwargs)\n",
      "File \u001b[1;32mc:\\Users\\jinhe\\OneDrive\\Documents\\Dev10\\Anaconda\\lib\\site-packages\\pandas\\core\\frame.py:5399\u001b[0m, in \u001b[0;36mDataFrame.drop\u001b[1;34m(self, labels, axis, index, columns, level, inplace, errors)\u001b[0m\n\u001b[0;32m   5251\u001b[0m \u001b[39m@deprecate_nonkeyword_arguments\u001b[39m(version\u001b[39m=\u001b[39m\u001b[39mNone\u001b[39;00m, allowed_args\u001b[39m=\u001b[39m[\u001b[39m\"\u001b[39m\u001b[39mself\u001b[39m\u001b[39m\"\u001b[39m, \u001b[39m\"\u001b[39m\u001b[39mlabels\u001b[39m\u001b[39m\"\u001b[39m])\n\u001b[0;32m   5252\u001b[0m \u001b[39mdef\u001b[39;00m \u001b[39mdrop\u001b[39m(  \u001b[39m# type: ignore[override]\u001b[39;00m\n\u001b[0;32m   5253\u001b[0m     \u001b[39mself\u001b[39m,\n\u001b[1;32m   (...)\u001b[0m\n\u001b[0;32m   5260\u001b[0m     errors: IgnoreRaise \u001b[39m=\u001b[39m \u001b[39m\"\u001b[39m\u001b[39mraise\u001b[39m\u001b[39m\"\u001b[39m,\n\u001b[0;32m   5261\u001b[0m ) \u001b[39m-\u001b[39m\u001b[39m>\u001b[39m DataFrame \u001b[39m|\u001b[39m \u001b[39mNone\u001b[39;00m:\n\u001b[0;32m   5262\u001b[0m     \u001b[39m\"\"\"\u001b[39;00m\n\u001b[0;32m   5263\u001b[0m \u001b[39m    Drop specified labels from rows or columns.\u001b[39;00m\n\u001b[0;32m   5264\u001b[0m \n\u001b[1;32m   (...)\u001b[0m\n\u001b[0;32m   5397\u001b[0m \u001b[39m            weight  1.0     0.8\u001b[39;00m\n\u001b[0;32m   5398\u001b[0m \u001b[39m    \"\"\"\u001b[39;00m\n\u001b[1;32m-> 5399\u001b[0m     \u001b[39mreturn\u001b[39;00m \u001b[39msuper\u001b[39;49m()\u001b[39m.\u001b[39;49mdrop(\n\u001b[0;32m   5400\u001b[0m         labels\u001b[39m=\u001b[39;49mlabels,\n\u001b[0;32m   5401\u001b[0m         axis\u001b[39m=\u001b[39;49maxis,\n\u001b[0;32m   5402\u001b[0m         index\u001b[39m=\u001b[39;49mindex,\n\u001b[0;32m   5403\u001b[0m         columns\u001b[39m=\u001b[39;49mcolumns,\n\u001b[0;32m   5404\u001b[0m         level\u001b[39m=\u001b[39;49mlevel,\n\u001b[0;32m   5405\u001b[0m         inplace\u001b[39m=\u001b[39;49minplace,\n\u001b[0;32m   5406\u001b[0m         errors\u001b[39m=\u001b[39;49merrors,\n\u001b[0;32m   5407\u001b[0m     )\n",
      "File \u001b[1;32mc:\\Users\\jinhe\\OneDrive\\Documents\\Dev10\\Anaconda\\lib\\site-packages\\pandas\\util\\_decorators.py:331\u001b[0m, in \u001b[0;36mdeprecate_nonkeyword_arguments.<locals>.decorate.<locals>.wrapper\u001b[1;34m(*args, **kwargs)\u001b[0m\n\u001b[0;32m    325\u001b[0m \u001b[39mif\u001b[39;00m \u001b[39mlen\u001b[39m(args) \u001b[39m>\u001b[39m num_allow_args:\n\u001b[0;32m    326\u001b[0m     warnings\u001b[39m.\u001b[39mwarn(\n\u001b[0;32m    327\u001b[0m         msg\u001b[39m.\u001b[39mformat(arguments\u001b[39m=\u001b[39m_format_argument_list(allow_args)),\n\u001b[0;32m    328\u001b[0m         \u001b[39mFutureWarning\u001b[39;00m,\n\u001b[0;32m    329\u001b[0m         stacklevel\u001b[39m=\u001b[39mfind_stack_level(),\n\u001b[0;32m    330\u001b[0m     )\n\u001b[1;32m--> 331\u001b[0m \u001b[39mreturn\u001b[39;00m func(\u001b[39m*\u001b[39margs, \u001b[39m*\u001b[39m\u001b[39m*\u001b[39mkwargs)\n",
      "File \u001b[1;32mc:\\Users\\jinhe\\OneDrive\\Documents\\Dev10\\Anaconda\\lib\\site-packages\\pandas\\core\\generic.py:4505\u001b[0m, in \u001b[0;36mNDFrame.drop\u001b[1;34m(self, labels, axis, index, columns, level, inplace, errors)\u001b[0m\n\u001b[0;32m   4503\u001b[0m \u001b[39mfor\u001b[39;00m axis, labels \u001b[39min\u001b[39;00m axes\u001b[39m.\u001b[39mitems():\n\u001b[0;32m   4504\u001b[0m     \u001b[39mif\u001b[39;00m labels \u001b[39mis\u001b[39;00m \u001b[39mnot\u001b[39;00m \u001b[39mNone\u001b[39;00m:\n\u001b[1;32m-> 4505\u001b[0m         obj \u001b[39m=\u001b[39m obj\u001b[39m.\u001b[39;49m_drop_axis(labels, axis, level\u001b[39m=\u001b[39;49mlevel, errors\u001b[39m=\u001b[39;49merrors)\n\u001b[0;32m   4507\u001b[0m \u001b[39mif\u001b[39;00m inplace:\n\u001b[0;32m   4508\u001b[0m     \u001b[39mself\u001b[39m\u001b[39m.\u001b[39m_update_inplace(obj)\n",
      "File \u001b[1;32mc:\\Users\\jinhe\\OneDrive\\Documents\\Dev10\\Anaconda\\lib\\site-packages\\pandas\\core\\generic.py:4546\u001b[0m, in \u001b[0;36mNDFrame._drop_axis\u001b[1;34m(self, labels, axis, level, errors, only_slice)\u001b[0m\n\u001b[0;32m   4544\u001b[0m         new_axis \u001b[39m=\u001b[39m axis\u001b[39m.\u001b[39mdrop(labels, level\u001b[39m=\u001b[39mlevel, errors\u001b[39m=\u001b[39merrors)\n\u001b[0;32m   4545\u001b[0m     \u001b[39melse\u001b[39;00m:\n\u001b[1;32m-> 4546\u001b[0m         new_axis \u001b[39m=\u001b[39m axis\u001b[39m.\u001b[39;49mdrop(labels, errors\u001b[39m=\u001b[39;49merrors)\n\u001b[0;32m   4547\u001b[0m     indexer \u001b[39m=\u001b[39m axis\u001b[39m.\u001b[39mget_indexer(new_axis)\n\u001b[0;32m   4549\u001b[0m \u001b[39m# Case for non-unique axis\u001b[39;00m\n\u001b[0;32m   4550\u001b[0m \u001b[39melse\u001b[39;00m:\n",
      "File \u001b[1;32mc:\\Users\\jinhe\\OneDrive\\Documents\\Dev10\\Anaconda\\lib\\site-packages\\pandas\\core\\indexes\\base.py:6934\u001b[0m, in \u001b[0;36mIndex.drop\u001b[1;34m(self, labels, errors)\u001b[0m\n\u001b[0;32m   6932\u001b[0m \u001b[39mif\u001b[39;00m mask\u001b[39m.\u001b[39many():\n\u001b[0;32m   6933\u001b[0m     \u001b[39mif\u001b[39;00m errors \u001b[39m!=\u001b[39m \u001b[39m\"\u001b[39m\u001b[39mignore\u001b[39m\u001b[39m\"\u001b[39m:\n\u001b[1;32m-> 6934\u001b[0m         \u001b[39mraise\u001b[39;00m \u001b[39mKeyError\u001b[39;00m(\u001b[39mf\u001b[39m\u001b[39m\"\u001b[39m\u001b[39m{\u001b[39;00m\u001b[39mlist\u001b[39m(labels[mask])\u001b[39m}\u001b[39;00m\u001b[39m not found in axis\u001b[39m\u001b[39m\"\u001b[39m)\n\u001b[0;32m   6935\u001b[0m     indexer \u001b[39m=\u001b[39m indexer[\u001b[39m~\u001b[39mmask]\n\u001b[0;32m   6936\u001b[0m \u001b[39mreturn\u001b[39;00m \u001b[39mself\u001b[39m\u001b[39m.\u001b[39mdelete(indexer)\n",
      "\u001b[1;31mKeyError\u001b[0m: \"['NAICS2018'] not found in axis\""
     ]
    }
   ],
   "source": [
    "# The easy way to read in API data\n",
    "\n",
    "data = response.json()\n",
    "\n",
    "col = data[0]\n",
    "\n",
    "df = pd.DataFrame(data[1:], columns=col)\n",
    "\n",
    "colToDrop = ['GEO_ID', 'NAME', f'NAICS{year - 1}', 'SEX', 'ETH_GROUP', 'RACE_GROUP', 'PAYANN_F',\n",
    " 'FIRMPDEMP_S', 'FIRMPDEMP_S_F', 'RCPPDEMP_S', 'RCPPDEMP_S_F', 'EMP_S', 'EMP_S_F', 'PAYANN_S',\n",
    " 'PAYANN_S_F', 'us', 'YEAR', 'FIRMPDEMP_F', 'RCPPDEMP_F', 'EMP_F', 'VET_GROUP', 'EMPSZFI']\n",
    "\n",
    "df = df.drop(columns= colToDrop, axis = 1).convert_dtypes().drop_duplicates()\n",
    "\n",
    "# list(df.columns)\n",
    "df.head()\n",
    "# df.shape"
   ]
  },
  {
   "cell_type": "code",
   "execution_count": 7,
   "metadata": {},
   "outputs": [
    {
     "data": {
      "text/html": [
       "<div>\n",
       "<style scoped>\n",
       "    .dataframe tbody tr th:only-of-type {\n",
       "        vertical-align: middle;\n",
       "    }\n",
       "\n",
       "    .dataframe tbody tr th {\n",
       "        vertical-align: top;\n",
       "    }\n",
       "\n",
       "    .dataframe thead th {\n",
       "        text-align: right;\n",
       "    }\n",
       "</style>\n",
       "<table border=\"1\" class=\"dataframe\">\n",
       "  <thead>\n",
       "    <tr style=\"text-align: right;\">\n",
       "      <th></th>\n",
       "      <th>NAICS2017_LABEL</th>\n",
       "    </tr>\n",
       "  </thead>\n",
       "  <tbody>\n",
       "    <tr>\n",
       "      <th>0</th>\n",
       "      <td>Total for all sectors</td>\n",
       "    </tr>\n",
       "    <tr>\n",
       "      <th>1144</th>\n",
       "      <td>Agriculture, forestry, fishing and hunting</td>\n",
       "    </tr>\n",
       "    <tr>\n",
       "      <th>1450</th>\n",
       "      <td>Mining, quarrying, and oil and gas extraction</td>\n",
       "    </tr>\n",
       "    <tr>\n",
       "      <th>2056</th>\n",
       "      <td>Manufacturing</td>\n",
       "    </tr>\n",
       "    <tr>\n",
       "      <th>2178</th>\n",
       "      <td>Utilities</td>\n",
       "    </tr>\n",
       "    <tr>\n",
       "      <th>2750</th>\n",
       "      <td>Construction</td>\n",
       "    </tr>\n",
       "    <tr>\n",
       "      <th>4754</th>\n",
       "      <td>Wholesale trade</td>\n",
       "    </tr>\n",
       "    <tr>\n",
       "      <th>6048</th>\n",
       "      <td>Retail trade</td>\n",
       "    </tr>\n",
       "    <tr>\n",
       "      <th>6844</th>\n",
       "      <td>Transportation and warehousing</td>\n",
       "    </tr>\n",
       "    <tr>\n",
       "      <th>7624</th>\n",
       "      <td>Information</td>\n",
       "    </tr>\n",
       "    <tr>\n",
       "      <th>8473</th>\n",
       "      <td>Finance and insurance</td>\n",
       "    </tr>\n",
       "    <tr>\n",
       "      <th>9948</th>\n",
       "      <td>Real estate and rental and leasing</td>\n",
       "    </tr>\n",
       "    <tr>\n",
       "      <th>10665</th>\n",
       "      <td>Professional, scientific, and technical services</td>\n",
       "    </tr>\n",
       "    <tr>\n",
       "      <th>11421</th>\n",
       "      <td>Management of companies and enterprises</td>\n",
       "    </tr>\n",
       "    <tr>\n",
       "      <th>12201</th>\n",
       "      <td>Administrative and support and waste managemen...</td>\n",
       "    </tr>\n",
       "    <tr>\n",
       "      <th>13542</th>\n",
       "      <td>Educational services</td>\n",
       "    </tr>\n",
       "    <tr>\n",
       "      <th>14265</th>\n",
       "      <td>Health care and social assistance</td>\n",
       "    </tr>\n",
       "    <tr>\n",
       "      <th>15243</th>\n",
       "      <td>Arts, entertainment, and recreation</td>\n",
       "    </tr>\n",
       "    <tr>\n",
       "      <th>16521</th>\n",
       "      <td>Accommodation and food services</td>\n",
       "    </tr>\n",
       "    <tr>\n",
       "      <th>17282</th>\n",
       "      <td>Other services (except public administration)</td>\n",
       "    </tr>\n",
       "    <tr>\n",
       "      <th>18184</th>\n",
       "      <td>Industries not classified</td>\n",
       "    </tr>\n",
       "  </tbody>\n",
       "</table>\n",
       "</div>"
      ],
      "text/plain": [
       "                                         NAICS2017_LABEL\n",
       "0                                  Total for all sectors\n",
       "1144          Agriculture, forestry, fishing and hunting\n",
       "1450       Mining, quarrying, and oil and gas extraction\n",
       "2056                                       Manufacturing\n",
       "2178                                           Utilities\n",
       "2750                                        Construction\n",
       "4754                                     Wholesale trade\n",
       "6048                                        Retail trade\n",
       "6844                      Transportation and warehousing\n",
       "7624                                         Information\n",
       "8473                               Finance and insurance\n",
       "9948                  Real estate and rental and leasing\n",
       "10665   Professional, scientific, and technical services\n",
       "11421            Management of companies and enterprises\n",
       "12201  Administrative and support and waste managemen...\n",
       "13542                               Educational services\n",
       "14265                  Health care and social assistance\n",
       "15243                Arts, entertainment, and recreation\n",
       "16521                    Accommodation and food services\n",
       "17282      Other services (except public administration)\n",
       "18184                          Industries not classified"
      ]
     },
     "execution_count": 7,
     "metadata": {},
     "output_type": "execute_result"
    }
   ],
   "source": [
    "# Distinct column values\n",
    "\n",
    "# df[['Column Name']].drop_duplicates()"
   ]
  },
  {
   "cell_type": "markdown",
   "metadata": {},
   "source": [
    "Columns to keep from YearinBusinessDF:\n",
    "\n",
    " 'Geographic Area Name (NAME)',\n",
    " '2017 NAICS code (NAICS2017)',\n",
    " 'Meaning of NAICS code (NAICS2017_LABEL)',\n",
    " 'Meaning of Sex code (SEX_LABEL)',\n",
    " 'Meaning of Ethnicity code (ETH_GROUP_LABEL)',\n",
    " 'Meaning of Race code (RACE_GROUP_LABEL)',\n",
    " 'Meaning of Veteran code (VET_GROUP_LABEL)',\n",
    " 'Meaning of Years in business code (YIBSZFI_LABEL)',\n",
    " 'Number of employer firms (FIRMPDEMP)',\n",
    " 'Sales, value of shipments, or revenue of employer firms ($1,000) (RCPPDEMP)',\n",
    " 'Number of employees (EMP)',\n",
    " 'Annual payroll ($1,000) (PAYANN)'\n",
    "\n",
    "Columns to remove:\n",
    "\n",
    " 'Year (YEAR)',\n",
    " 'Relative standard error of employer firms (%) (FIRMPDEMP_S)',\n",
    " 'Relative standard error of sales, value of shipments, or revenue of employer firms (%) (RCPPDEMP_S)',\n",
    " 'Relative standard error of number of employees (%) (EMP_S)',\n",
    " 'Relative standard error of annual payroll (%) (PAYANN_S)'\n",
    "Column to merge from EmploymentSizeOfFirmDF:\n",
    "\n",
    "- 'Meaning of Employment size of firms code (EMPSZFI_LABEL)'\n",
    "\n",
    " Column to merge from ReceiptSizeOfFirmDF:\n",
    "\n",
    "- 'Meaning of Sales, value of shipments, or revenue size of firms code (RCPSZFI_LABEL)'"
   ]
  },
  {
   "cell_type": "markdown",
   "metadata": {},
   "source": [
    "## Cleaning\n",
    "\n",
    "- Drop columns we aren't planning to use\n",
    "- Rename Columns we are planning to use\n",
    "- Merge"
   ]
  },
  {
   "cell_type": "code",
   "execution_count": null,
   "metadata": {},
   "outputs": [],
   "source": []
  },
  {
   "cell_type": "code",
   "execution_count": null,
   "metadata": {},
   "outputs": [],
   "source": []
  },
  {
   "attachments": {},
   "cell_type": "markdown",
   "metadata": {},
   "source": [
    "###Visualization \n",
    "1. years in Business vs count of Business"
   ]
  },
  {
   "cell_type": "code",
   "execution_count": 5,
   "metadata": {},
   "outputs": [
    {
     "data": {
      "text/plain": [
       "Index(['Geographic Area Name (NAME)', '2017 NAICS code (NAICS2017)',\n",
       "       'Meaning of NAICS code (NAICS2017_LABEL)',\n",
       "       'Meaning of Sex code (SEX_LABEL)',\n",
       "       'Meaning of Ethnicity code (ETH_GROUP_LABEL)',\n",
       "       'Meaning of Race code (RACE_GROUP_LABEL)',\n",
       "       'Meaning of Veteran code (VET_GROUP_LABEL)',\n",
       "       'Meaning of Years in business code (YIBSZFI_LABEL)', 'Year (YEAR)',\n",
       "       'Number of employer firms (FIRMPDEMP)',\n",
       "       'Sales, value of shipments, or revenue of employer firms ($1,000) (RCPPDEMP)',\n",
       "       'Number of employees (EMP)', 'Annual payroll ($1,000) (PAYANN)',\n",
       "       'Relative standard error of employer firms (%) (FIRMPDEMP_S)',\n",
       "       'Relative standard error of sales, value of shipments, or revenue of employer firms (%) (RCPPDEMP_S)',\n",
       "       'Relative standard error of number of employees (%) (EMP_S)',\n",
       "       'Relative standard error of annual payroll (%) (PAYANN_S)'],\n",
       "      dtype='object')"
      ]
     },
     "execution_count": 5,
     "metadata": {},
     "output_type": "execute_result"
    }
   ],
   "source": [
    "YearinBusinessDF.columns"
   ]
  },
  {
   "cell_type": "code",
   "execution_count": 6,
   "metadata": {},
   "outputs": [],
   "source": [
    "yb_df1 = YearinBusinessDF"
   ]
  },
  {
   "cell_type": "code",
   "execution_count": null,
   "metadata": {},
   "outputs": [],
   "source": [
    "yb_df1= yb_df1.loc[1:, ['YIBSZFI_LABEL']]\n",
    "yb_df1['YIBSZFI_LABEL'] = yb_df1['YIBSZFI_LABEL'].replace({\n",
    "    'Firms with less than 2 years in business': '0 to 2', \n",
    "    'Firms with 2 to 3 years in business': '2-3', \n",
    "    'Firms with 4 to 5 years in business': '4-5',\n",
    "    'Firms with 6 to 10 years in business' : '6-10',\n",
    "    'Firms with 11 to 15 years in business' : '11-15',\n",
    "    'Firms with 16 or more years in business' : '16 plus',\n",
    "})"
   ]
  },
  {
   "cell_type": "code",
   "execution_count": null,
   "metadata": {},
   "outputs": [],
   "source": [
    "# GRaph 1\n",
    "#### Filter the DataFrame to exclude rows with YIBSZFI_LABEL equal to 'Meaning of years in business code'\n",
    "yb_df = yb_df1.loc[yb_df1['YIBSZFI_LABEL'] != 'Meaning of Years in business code']\n",
    "\n",
    "# Plot the data using the filtered DataFrame\n",
    "plt.bar(yb_df['YIBSZFI_LABEL'].value_counts().index, yb_df['YIBSZFI_LABEL'].value_counts().values)\n",
    "plt.xlabel('Years of the Business')\n",
    "plt.ylabel('Count of the business')\n",
    "plt.title('Business years and counts')\n",
    "plt.show()"
   ]
  },
  {
   "cell_type": "code",
   "execution_count": null,
   "metadata": {},
   "outputs": [],
   "source": [
    "yb_df2 = YearinBusinessDF.loc[YearinBusinessDF['RACE_GROUP_LABEL']\n",
    "                              != 'Meaning of Race code']\n",
    "yb_df2[['RACE_GROUP_LABEL']].drop_duplicates()\n"
   ]
  },
  {
   "cell_type": "code",
   "execution_count": null,
   "metadata": {},
   "outputs": [],
   "source": [
    "replacement_dict = {\n",
    "    'American Indian and Alaska Native': 'Native American ', \n",
    "    'Native Hawaiian and Other Pacific Islander': 'Islander', \n",
    "    'Equally minority/nonminority': 'Minority',\n",
    "    'Black or African American': 'African American',\n",
    "    'Total': 'Unclassifiable'\n",
    "}\n",
    "\n",
    "yb_df2['RACE_GROUP_LABEL'] = yb_df2['RACE_GROUP_LABEL'].replace(replacement_dict)"
   ]
  },
  {
   "cell_type": "code",
   "execution_count": null,
   "metadata": {},
   "outputs": [],
   "source": [
    "#Tree map for SEX_LABEL \n",
    "#### male and female proportion on business in USA(exclude total from values)\n",
    "import plotly.express as px\n",
    "# count the number of value in the SEX_LABEL column, excluding the \"Total\" value\n",
    "grouped_df = yb_df2[yb_df2['SEX_LABEL'] != 'Total']['SEX_LABEL'].value_counts().reset_index(name='Count')\n",
    "grouped_df.rename(columns={'index': 'Sex'}, inplace=True)\n",
    "\n",
    "# create treemap with the grouped data\n",
    "fig = px.treemap(grouped_df, path=['Sex'], values='Count')\n",
    "\n",
    "# show the plot\n",
    "fig.show()"
   ]
  }
 ],
 "metadata": {
  "kernelspec": {
   "display_name": "Python 3 (ipykernel)",
   "language": "python",
   "name": "python3"
  },
  "language_info": {
   "codemirror_mode": {
    "name": "ipython",
    "version": 3
   },
   "file_extension": ".py",
   "mimetype": "text/x-python",
   "name": "python",
   "nbconvert_exporter": "python",
   "pygments_lexer": "ipython3",
   "version": "3.10.9"
  }
 },
 "nbformat": 4,
 "nbformat_minor": 2
}
